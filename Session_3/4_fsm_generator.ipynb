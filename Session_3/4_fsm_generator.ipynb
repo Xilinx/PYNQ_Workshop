{
 "cells": [
  {
   "cell_type": "markdown",
   "metadata": {},
   "source": [
    "# Finite State Machine Generator\n",
    "\n",
    "This notebook will show how to use the Finite State Machine (FSM) Generator to generate a state machine. The FSM we will build is a Gray code counter.  The counter has three state bits and can count up or down through eight states.  The counter outputs are Gray coded, meaning that there is only a single-bit transition between the output vector of any state and its next states. "
   ]
  },
  {
   "cell_type": "markdown",
   "metadata": {},
   "source": [
    "### Step 1: Download the `logictools` overlay"
   ]
  },
  {
   "cell_type": "code",
   "execution_count": null,
   "metadata": {},
   "outputs": [],
   "source": [
    "from pynq.overlays.logictools import LogicToolsOverlay\n",
    "from pynq.lib.logictools import FSMGenerator\n",
    "\n",
    "logictools_olay = LogicToolsOverlay('logictools.bit')"
   ]
  },
  {
   "cell_type": "markdown",
   "metadata": {
    "collapsed": true
   },
   "source": [
    "### Step 2: Specify the FSM"
   ]
  },
  {
   "cell_type": "code",
   "execution_count": null,
   "metadata": {},
   "outputs": [],
   "source": [
    "fsm_spec = {'inputs': [('reset','D0'), ('direction','D1')],\n",
    "            'outputs': [('bit2','D3'), ('bit1','D4'), ('bit0','D5')],\n",
    "            'states': ['S0', 'S1', 'S2', 'S3', 'S4', 'S5', 'S6', 'S7'],\n",
    "            'transitions': [['01', 'S0', 'S1', '000'],\n",
    "                            ['00', 'S0', 'S7', '000'],\n",
    "                            ['01', 'S1', 'S2', '001'],\n",
    "                            ['00', 'S1', 'S0', '001'],\n",
    "                            ['01', 'S2', 'S3', '011'],\n",
    "                            ['00', 'S2', 'S1', '011'],\n",
    "                            ['01', 'S3', 'S4', '010'],\n",
    "                            ['00', 'S3', 'S2', '010'],\n",
    "                            ['01', 'S4', 'S5', '110'],\n",
    "                            ['00', 'S4', 'S3', '110'],\n",
    "                            ['01', 'S5', 'S6', '111'],\n",
    "                            ['00', 'S5', 'S4', '111'],\n",
    "                            ['01', 'S6', 'S7', '101'],\n",
    "                            ['00', 'S6', 'S5', '101'],\n",
    "                            ['01', 'S7', 'S0', '100'],\n",
    "                            ['00', 'S7', 'S6', '100'],\n",
    "                            ['1-', '*',  'S0', '']]}   "
   ]
  },
  {
   "cell_type": "markdown",
   "metadata": {},
   "source": [
    "__Notes on the FSM specification format__\n",
    "\n",
    "![](./images/fsm_spec_format.png)"
   ]
  },
  {
   "cell_type": "markdown",
   "metadata": {},
   "source": [
    "### Step 3: Instantiate the FSM generator object"
   ]
  },
  {
   "cell_type": "code",
   "execution_count": null,
   "metadata": {},
   "outputs": [],
   "source": [
    "fsm_generator = logictools_olay.fsm_generator"
   ]
  },
  {
   "cell_type": "markdown",
   "metadata": {},
   "source": [
    "__Setup to use trace analyzer__   \n",
    "In this notebook, the trace analyzer is used to check if the inputs and outputs of the FSM.\n",
    "\n",
    "Users can choose whether to use the trace analyzer by calling the `trace()` method."
   ]
  },
  {
   "cell_type": "code",
   "execution_count": null,
   "metadata": {},
   "outputs": [],
   "source": [
    "fsm_generator.trace()"
   ]
  },
  {
   "cell_type": "markdown",
   "metadata": {},
   "source": [
    "### Step 5: Setup the FSM generator\n",
    "The FSM generator will work at the default frequency of 10MHz. This can be modified using a `frequency` argument in the `setup()` method."
   ]
  },
  {
   "cell_type": "code",
   "execution_count": null,
   "metadata": {},
   "outputs": [],
   "source": [
    "fsm_generator.setup(fsm_spec)"
   ]
  },
  {
   "cell_type": "markdown",
   "metadata": {},
   "source": [
    "__Display the FSM state diagram__   \n",
    "This method should only be called after the generator has been properly set up."
   ]
  },
  {
   "cell_type": "code",
   "execution_count": null,
   "metadata": {},
   "outputs": [],
   "source": [
    "fsm_generator.show_state_diagram()"
   ]
  },
  {
   "cell_type": "markdown",
   "metadata": {},
   "source": [
    "__Set up the FSM inputs on the PYNQ board__\n",
    "* Check that the reset and direction inputs are correctly wired on the PYNQ board, as shown below:\n",
    "\n",
    "|  | PYNQ-Z1 | PYNQ-Z2 |\n",
    "|--|---------|---------|\n",
    "| GND | D0 | AR0 |\n",
    "| 3.3V | D1 | AR1 |\n",
    "\n",
    "![](./images/fsm_wiring.png)"
   ]
  },
  {
   "cell_type": "markdown",
   "metadata": {},
   "source": [
    "__Notes:__\n",
    "    \n",
    "* The 3-bit Gray code counter is an up-down, wrap-around counter that will count from states 000 to 100 in either ascending or descending order    \n",
    "\n",
    "\n",
    "* The reset input is connected to pin D0/AR0 of the Arduino connector\n",
    "    * Connect the reset input to GND for normal operation \n",
    "    * When the reset input is set to logic 1 (3.3V), the counter resets to state 000\n",
    "    \n",
    "\n",
    "* The direction input is connected to pin D1/AR1 of the Arduino connector\n",
    "    * When the direction is set to logic 0, the counter counts down\n",
    "    * Conversely, when the direction input is set to logic 1, the counter counts up"
   ]
  },
  {
   "cell_type": "markdown",
   "metadata": {},
   "source": [
    "### Step 6: Run and display waveform\n",
    "\n",
    "The ` run()` method will execute all the samples, `show_waveform()` method is used to display the waveforms"
   ]
  },
  {
   "cell_type": "code",
   "execution_count": null,
   "metadata": {},
   "outputs": [],
   "source": [
    "fsm_generator.run()\n",
    "fsm_generator.show_waveform()"
   ]
  },
  {
   "cell_type": "markdown",
   "metadata": {},
   "source": [
    "#### Verify the trace output against the expected Gray code count sequence\n",
    "\n",
    "| State | FSM output bits: bit2, bit1, bit0        |\n",
    "|:-----:|:----------------------------------------:|\n",
    "| s0    | 000                                      |\n",
    "| s1    | 001                                      |\n",
    "| s2    | 011                                      |\n",
    "| s3    | 010                                      |\n",
    "| s4    | 110                                      |\n",
    "| s5    | 111                                      |\n",
    "| s6    | 101                                      |\n",
    "| s7    | 100                                      |\n",
    "\n",
    "\n"
   ]
  },
  {
   "cell_type": "markdown",
   "metadata": {},
   "source": [
    "### Step 7: Stop the FSM generator\n",
    "Calling `stop()` will clear the logic values on output pins; however, the waveform will be recorded locally in the FSM instance."
   ]
  },
  {
   "cell_type": "code",
   "execution_count": null,
   "metadata": {},
   "outputs": [],
   "source": [
    "fsm_generator.stop()"
   ]
  }
 ],
 "metadata": {
  "anaconda-cloud": {},
  "kernelspec": {
   "display_name": "Python 3",
   "language": "python",
   "name": "python3"
  },
  "language_info": {
   "codemirror_mode": {
    "name": "ipython",
    "version": 3
   },
   "file_extension": ".py",
   "mimetype": "text/x-python",
   "name": "python",
   "nbconvert_exporter": "python",
   "pygments_lexer": "ipython3",
   "version": "3.6.5"
  }
 },
 "nbformat": 4,
 "nbformat_minor": 1
}
